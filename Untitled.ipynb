{
 "cells": [
  {
   "cell_type": "code",
   "execution_count": 1,
   "id": "7fab0bac-90bb-43f6-a315-e6ef053538af",
   "metadata": {},
   "outputs": [],
   "source": [
    "import cv2\n",
    "import numpy as np"
   ]
  },
  {
   "cell_type": "code",
   "execution_count": 2,
   "id": "7797d8c0-ad98-43fb-a207-afc453c1f6ae",
   "metadata": {},
   "outputs": [],
   "source": [
    "image = cv2.imread('photo.jpg')"
   ]
  },
  {
   "cell_type": "code",
   "execution_count": 3,
   "id": "1523cb9d-677e-4c16-9fd2-8a382ce41b3d",
   "metadata": {},
   "outputs": [],
   "source": [
    "face_cascade = cv2.CascadeClassifier('haarcascade_frontalface_default.xml')\n",
    "gray_image = cv2.cvtColor(image, cv2.COLOR_BGR2GRAY)\n",
    "faces = face_cascade.detectMultiScale(gray_image, scaleFactor=1.1, minNeighbors=5)"
   ]
  },
  {
   "cell_type": "code",
   "execution_count": 4,
   "id": "94c6abda-2780-4a31-bda4-8c45ed435378",
   "metadata": {},
   "outputs": [],
   "source": [
    "for (x, y, w, h) in faces:\n",
    "    # Perform image processing operations on each face\n",
    "    face = image[y:y+h, x:x+w]"
   ]
  },
  {
   "cell_type": "code",
   "execution_count": 5,
   "id": "a1e6fe52-035a-4b9f-8aad-10f45b59e565",
   "metadata": {},
   "outputs": [],
   "source": [
    "smoothed_face = cv2.GaussianBlur(face, (5, 5), 0)"
   ]
  },
  {
   "cell_type": "code",
   "execution_count": 6,
   "id": "6bb4c493-eb3d-4090-a077-28bbeec396f0",
   "metadata": {},
   "outputs": [],
   "source": [
    "kernel = np.array([[-1,-1,-1], [-1,9,-1], [-1,-1,-1]])\n",
    "sharpened_face = cv2.filter2D(face, -1, kernel)"
   ]
  },
  {
   "cell_type": "code",
   "execution_count": 7,
   "id": "f9653242-773d-4562-8c1c-808145892035",
   "metadata": {},
   "outputs": [],
   "source": [
    "noisy_face = face + np.random.normal(0, 25, face.shape)"
   ]
  },
  {
   "cell_type": "code",
   "execution_count": 8,
   "id": "53a5c2e9-34fb-4999-bcdb-f366b9dc3f74",
   "metadata": {},
   "outputs": [],
   "source": [
    "denoised_face = cv2.medianBlur(noisy_face.astype(np.uint8), 5)"
   ]
  },
  {
   "cell_type": "code",
   "execution_count": 9,
   "id": "7e2f24cd-c0df-48b2-965b-6a94d0020e15",
   "metadata": {},
   "outputs": [],
   "source": [
    " ret, thresh = cv2.threshold(cv2.cvtColor(face, cv2.COLOR_BGR2GRAY), 127, 255, cv2.THRESH_BINARY)"
   ]
  },
  {
   "cell_type": "code",
   "execution_count": 10,
   "id": "e38a771d-ee56-427c-b223-d56cdb50f40a",
   "metadata": {},
   "outputs": [],
   "source": [
    "cv2.imshow('Original Face', face)\n",
    "cv2.imshow('Smoothed Face', smoothed_face)\n",
    "cv2.imshow('Sharpened Face', sharpened_face)\n",
    "cv2.imshow('Noisy Face', noisy_face.astype(np.uint8))\n",
    "cv2.imshow('Denoised Face', denoised_face)\n",
    "cv2.imshow('Segmented Face', thresh)\n",
    "cv2.waitKey(0)\n",
    "\n",
    "cv2.destroyAllWindows()"
   ]
  },
  {
   "cell_type": "code",
   "execution_count": null,
   "id": "87f2bec9-5fb4-4952-9530-a105db4a93a8",
   "metadata": {},
   "outputs": [],
   "source": []
  }
 ],
 "metadata": {
  "kernelspec": {
   "display_name": "Python 3 (ipykernel)",
   "language": "python",
   "name": "python3"
  },
  "language_info": {
   "codemirror_mode": {
    "name": "ipython",
    "version": 3
   },
   "file_extension": ".py",
   "mimetype": "text/x-python",
   "name": "python",
   "nbconvert_exporter": "python",
   "pygments_lexer": "ipython3",
   "version": "3.11.5"
  }
 },
 "nbformat": 4,
 "nbformat_minor": 5
}
